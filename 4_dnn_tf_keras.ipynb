{
 "cells": [
  {
   "cell_type": "markdown",
   "metadata": {},
   "source": [
    "# Create a DNN using tensorflow and keras\n",
    "\n",
    "## Introduction\n",
    "\n",
    "In this example a simple Deep Neural Network (DNN) is trained to recognize images of handwritten digits. It is partly inspired by the official [tensorflow keras tutorial](https://www.tensorflow.org/tutorials/keras/basic_classification), which also is a good tutorial on the concepts of DNNs for beginners.\n",
    "\n",
    "This tutorial gives a brief insight into building DNNs by four majour steps:\n",
    "* setup the model structure\n",
    "* train the model\n",
    "* evaluatre accuracy\n",
    "* make predictions\n",
    "\n",
    "Finally the results are discussed and improved by some some tricks:\n",
    "* plot loss and accuracy of the model\n",
    "* improve the performance of training the model\n",
    "\n",
    "## setup the model structure\n",
    "\n",
    "\n",
    "### load necessary libraries\n",
    "\n",
    "The Keras library is being used, which by now is part of tensorflow. Following code loads the according libraries."
   ]
  },
  {
   "cell_type": "code",
   "execution_count": 1,
   "metadata": {},
   "outputs": [
    {
     "name": "stdout",
     "output_type": "stream",
     "text": [
      "1.10.0\n"
     ]
    }
   ],
   "source": [
    "# TensorFlow and tf.keras\n",
    "import tensorflow as tf\n",
    "from tensorflow import keras\n",
    "\n",
    "import numpy as np\n",
    "\n",
    "print(tf.__version__)"
   ]
  },
  {
   "cell_type": "markdown",
   "metadata": {},
   "source": [
    "### use MNIST data\n",
    "\n",
    "The [MNIST dataset](http://yann.lecun.com/exdb/mnist/) is a set of labeled images of handwritten digits (0-9). Each imaage has 28x28 digits. It consists of a training set of 60,000 examples and a set of 10,000 examples. Since it is a popular dataset, which is often used to benchmark machine learning libraries, tensorflow offers code to load MNIST."
   ]
  },
  {
   "cell_type": "code",
   "execution_count": 2,
   "metadata": {},
   "outputs": [],
   "source": [
    "# load mnist dataset\n",
    "mnist_dataset = keras.datasets.mnist\n",
    "#mnist_dataset = keras.datasets.fashion_mnist # for fashion mnist dataset instead of classic mnist dataset\n",
    "(mnist_train_images, mnist_train_labels), (mnist_test_images, mnist_test_labels) = mnist_dataset.load_data()"
   ]
  },
  {
   "cell_type": "markdown",
   "metadata": {},
   "source": [
    "It is good practice to normalize data of any dataset before using the optimization algorithms. This makes the gradients of the Mean Square Error function (RMSE) steeper and may cause the regression to converge faster. The pixel values of MNIST reach between 0 and 255. These integer values are casted to float values reaching between zero and one.\n",
    "todo hands-on machine learning zitieren"
   ]
  },
  {
   "cell_type": "code",
   "execution_count": 3,
   "metadata": {},
   "outputs": [],
   "source": [
    "mnist_train_images = mnist_train_images / 255.0\n",
    "mnist_test_images = mnist_test_images / 255.0"
   ]
  },
  {
   "cell_type": "markdown",
   "metadata": {},
   "source": [
    "### create the model\n",
    "\n",
    "The structure of the DNN should consist of 28x28 (=256) input neurons, one hidden layer of 128 neurons and an output layer of 10 neurons (each corresponding to one digit from zero to nine).\n",
    "![alt text](images/dnn_tf_keras/dnn_form.svg\")\n",
    "\n",
    "Following code shows how to create a DNN with this network topology using Keras."
   ]
  },
  {
   "cell_type": "code",
   "execution_count": 5,
   "metadata": {},
   "outputs": [],
   "source": [
    "# create the model\n",
    "mnist_model = keras.Sequential([\n",
    "    keras.layers.Flatten(input_shape=(28, 28)),\n",
    "    keras.layers.Dense(128, activation=tf.nn.relu),\n",
    "    keras.layers.Dense(10, activation=tf.nn.softmax)\n",
    "])"
   ]
  },
  {
   "cell_type": "markdown",
   "metadata": {},
   "source": [
    "### configure the model\n",
    "\n",
    "Before using the model it is necessary to setup its behaviour by some configurations:\n",
    "* **optimizer:** Optimization Method (Gradient Descent, Stochastic Gradient descent, Mini-Batch, Nestrov, Adagrad, Adam Optimization<sup>1</sup> or conjugate gradient, bfgs, l-bfgs<sup>2</sup>)\n",
    "* **loss:** Cost function needed by the optimizer to minimize the error during training. \n",
    "* **metrics:** A metrics function is a function that is used to judge the performance of a model. It is similary to a loss function. It is not used when training the function.\n",
    "\n",
    "<sup>1: Optimization methods described by Machine Learning with Scikit-Learn and TensorFlow by Aurelien Geron</sup><br>\n",
    "<sup>2: conjugate gradient, bfgs, l-bfgs are frequently used optimization algroithms, that Andrew Ng recommends besides gradient descent in his [lecture on logistic regression](https://youtu.be/6vO3DVJlsK4?t=1m53s) of his MIT machine learning course.</sup>"
   ]
  },
  {
   "cell_type": "code",
   "execution_count": 6,
   "metadata": {},
   "outputs": [],
   "source": [
    "# configure the model\n",
    "mnist_model.compile(optimizer=tf.train.AdamOptimizer(), \n",
    "              loss='sparse_categorical_crossentropy',\n",
    "              metrics=['accuracy'])"
   ]
  },
  {
   "cell_type": "markdown",
   "metadata": {},
   "source": [
    "## train the model\n",
    "\n",
    "Now everything is setup properly to be able to train the model for the first time. This may take a while."
   ]
  },
  {
   "cell_type": "code",
   "execution_count": 7,
   "metadata": {},
   "outputs": [
    {
     "name": "stdout",
     "output_type": "stream",
     "text": [
      "Train on 50000 samples, validate on 10000 samples\n",
      "Epoch 1/50\n",
      "50000/50000 [==============================] - 1s 14us/step - loss: 0.6314 - acc: 0.8343 - val_loss: 0.3098 - val_acc: 0.9136\n",
      "Epoch 2/50\n",
      "50000/50000 [==============================] - 0s 10us/step - loss: 0.2710 - acc: 0.9252 - val_loss: 0.2415 - val_acc: 0.9313\n",
      "Epoch 3/50\n",
      "50000/50000 [==============================] - 0s 10us/step - loss: 0.2128 - acc: 0.9406 - val_loss: 0.1998 - val_acc: 0.9428\n",
      "Epoch 4/50\n",
      "50000/50000 [==============================] - 0s 10us/step - loss: 0.1767 - acc: 0.9506 - val_loss: 0.1756 - val_acc: 0.9505\n",
      "Epoch 5/50\n",
      "50000/50000 [==============================] - 0s 10us/step - loss: 0.1502 - acc: 0.9580 - val_loss: 0.1586 - val_acc: 0.9550\n",
      "Epoch 6/50\n",
      "50000/50000 [==============================] - 0s 10us/step - loss: 0.1314 - acc: 0.9630 - val_loss: 0.1459 - val_acc: 0.9593\n",
      "Epoch 7/50\n",
      "50000/50000 [==============================] - 0s 10us/step - loss: 0.1151 - acc: 0.9675 - val_loss: 0.1343 - val_acc: 0.9628\n",
      "Epoch 8/50\n",
      "50000/50000 [==============================] - 0s 10us/step - loss: 0.1025 - acc: 0.9712 - val_loss: 0.1234 - val_acc: 0.9657\n",
      "Epoch 9/50\n",
      "50000/50000 [==============================] - 0s 10us/step - loss: 0.0922 - acc: 0.9747 - val_loss: 0.1185 - val_acc: 0.9653\n",
      "Epoch 10/50\n",
      "50000/50000 [==============================] - 0s 10us/step - loss: 0.0833 - acc: 0.9767 - val_loss: 0.1117 - val_acc: 0.9670\n",
      "Epoch 11/50\n",
      "50000/50000 [==============================] - 0s 10us/step - loss: 0.0759 - acc: 0.9793 - val_loss: 0.1115 - val_acc: 0.9664\n",
      "Epoch 12/50\n",
      "50000/50000 [==============================] - 1s 10us/step - loss: 0.0690 - acc: 0.9805 - val_loss: 0.1033 - val_acc: 0.9704\n",
      "Epoch 13/50\n",
      "50000/50000 [==============================] - 0s 10us/step - loss: 0.0624 - acc: 0.9824 - val_loss: 0.1020 - val_acc: 0.9699\n",
      "Epoch 14/50\n",
      "50000/50000 [==============================] - 0s 10us/step - loss: 0.0571 - acc: 0.9842 - val_loss: 0.1006 - val_acc: 0.9703\n",
      "Epoch 15/50\n",
      "50000/50000 [==============================] - 0s 10us/step - loss: 0.0525 - acc: 0.9857 - val_loss: 0.0984 - val_acc: 0.9706\n",
      "Epoch 16/50\n",
      "50000/50000 [==============================] - 0s 10us/step - loss: 0.0479 - acc: 0.9870 - val_loss: 0.0932 - val_acc: 0.9730\n",
      "Epoch 17/50\n",
      "50000/50000 [==============================] - 0s 10us/step - loss: 0.0437 - acc: 0.9889 - val_loss: 0.0922 - val_acc: 0.9728\n",
      "Epoch 18/50\n",
      "50000/50000 [==============================] - 0s 10us/step - loss: 0.0411 - acc: 0.9893 - val_loss: 0.0902 - val_acc: 0.9732\n",
      "Epoch 19/50\n",
      "50000/50000 [==============================] - 0s 10us/step - loss: 0.0377 - acc: 0.9905 - val_loss: 0.0896 - val_acc: 0.9735\n",
      "Epoch 20/50\n",
      "50000/50000 [==============================] - 0s 10us/step - loss: 0.0340 - acc: 0.9914 - val_loss: 0.0875 - val_acc: 0.9744\n",
      "Epoch 21/50\n",
      "50000/50000 [==============================] - 0s 10us/step - loss: 0.0315 - acc: 0.9926 - val_loss: 0.0878 - val_acc: 0.9744\n",
      "Epoch 22/50\n",
      "50000/50000 [==============================] - 0s 10us/step - loss: 0.0289 - acc: 0.9934 - val_loss: 0.0873 - val_acc: 0.9744\n",
      "Epoch 23/50\n",
      "50000/50000 [==============================] - 0s 10us/step - loss: 0.0270 - acc: 0.9942 - val_loss: 0.0877 - val_acc: 0.9741\n",
      "Epoch 24/50\n",
      "50000/50000 [==============================] - 1s 10us/step - loss: 0.0246 - acc: 0.9950 - val_loss: 0.0882 - val_acc: 0.9736\n",
      "Epoch 25/50\n",
      "50000/50000 [==============================] - 0s 10us/step - loss: 0.0228 - acc: 0.9953 - val_loss: 0.0861 - val_acc: 0.9750\n",
      "Epoch 26/50\n",
      "50000/50000 [==============================] - 1s 10us/step - loss: 0.0211 - acc: 0.9961 - val_loss: 0.0884 - val_acc: 0.9746\n",
      "Epoch 27/50\n",
      "50000/50000 [==============================] - 1s 10us/step - loss: 0.0193 - acc: 0.9967 - val_loss: 0.0894 - val_acc: 0.9742\n",
      "Epoch 28/50\n",
      "50000/50000 [==============================] - 0s 10us/step - loss: 0.0180 - acc: 0.9972 - val_loss: 0.0859 - val_acc: 0.9756\n",
      "Epoch 29/50\n",
      "50000/50000 [==============================] - 0s 10us/step - loss: 0.0167 - acc: 0.9973 - val_loss: 0.0845 - val_acc: 0.9754\n",
      "Epoch 30/50\n",
      "50000/50000 [==============================] - 0s 10us/step - loss: 0.0152 - acc: 0.9976 - val_loss: 0.0866 - val_acc: 0.9747\n",
      "Epoch 31/50\n",
      "50000/50000 [==============================] - 0s 10us/step - loss: 0.0141 - acc: 0.9981 - val_loss: 0.0849 - val_acc: 0.9757\n",
      "Epoch 32/50\n",
      "50000/50000 [==============================] - 0s 10us/step - loss: 0.0129 - acc: 0.9984 - val_loss: 0.0860 - val_acc: 0.9761\n",
      "Epoch 33/50\n",
      "50000/50000 [==============================] - 0s 10us/step - loss: 0.0121 - acc: 0.9984 - val_loss: 0.0865 - val_acc: 0.9760\n",
      "Epoch 34/50\n",
      "50000/50000 [==============================] - 0s 10us/step - loss: 0.0108 - acc: 0.9990 - val_loss: 0.0880 - val_acc: 0.9760\n",
      "Epoch 35/50\n",
      "50000/50000 [==============================] - 0s 10us/step - loss: 0.0104 - acc: 0.9990 - val_loss: 0.0858 - val_acc: 0.9757\n",
      "Epoch 36/50\n",
      "50000/50000 [==============================] - 0s 10us/step - loss: 0.0096 - acc: 0.9989 - val_loss: 0.0883 - val_acc: 0.9771\n",
      "Epoch 37/50\n",
      "50000/50000 [==============================] - 0s 10us/step - loss: 0.0086 - acc: 0.9993 - val_loss: 0.0888 - val_acc: 0.9754\n",
      "Epoch 38/50\n",
      "50000/50000 [==============================] - 0s 10us/step - loss: 0.0081 - acc: 0.9993 - val_loss: 0.0868 - val_acc: 0.9756\n",
      "Epoch 39/50\n",
      "50000/50000 [==============================] - 0s 10us/step - loss: 0.0073 - acc: 0.9995 - val_loss: 0.0879 - val_acc: 0.9769\n",
      "Epoch 40/50\n",
      "50000/50000 [==============================] - 0s 10us/step - loss: 0.0067 - acc: 0.9996 - val_loss: 0.0906 - val_acc: 0.9758\n",
      "Epoch 41/50\n",
      "50000/50000 [==============================] - 0s 10us/step - loss: 0.0063 - acc: 0.9996 - val_loss: 0.0906 - val_acc: 0.9766\n",
      "Epoch 42/50\n",
      "50000/50000 [==============================] - 0s 10us/step - loss: 0.0058 - acc: 0.9998 - val_loss: 0.0911 - val_acc: 0.9768\n",
      "Epoch 43/50\n",
      "50000/50000 [==============================] - 0s 10us/step - loss: 0.0055 - acc: 0.9997 - val_loss: 0.0917 - val_acc: 0.9761\n",
      "Epoch 44/50\n",
      "50000/50000 [==============================] - 1s 10us/step - loss: 0.0051 - acc: 0.9997 - val_loss: 0.0923 - val_acc: 0.9762\n",
      "Epoch 45/50\n",
      "50000/50000 [==============================] - 0s 10us/step - loss: 0.0048 - acc: 0.9998 - val_loss: 0.0940 - val_acc: 0.9765\n",
      "Epoch 46/50\n",
      "50000/50000 [==============================] - 0s 10us/step - loss: 0.0044 - acc: 0.9999 - val_loss: 0.0927 - val_acc: 0.9769\n",
      "Epoch 47/50\n",
      "50000/50000 [==============================] - 1s 10us/step - loss: 0.0041 - acc: 0.9998 - val_loss: 0.0911 - val_acc: 0.9772\n",
      "Epoch 48/50\n",
      "50000/50000 [==============================] - 1s 10us/step - loss: 0.0037 - acc: 0.9999 - val_loss: 0.0937 - val_acc: 0.9771\n",
      "Epoch 49/50\n",
      "50000/50000 [==============================] - 0s 10us/step - loss: 0.0035 - acc: 0.9999 - val_loss: 0.0929 - val_acc: 0.9775\n",
      "Epoch 50/50\n",
      "50000/50000 [==============================] - 0s 10us/step - loss: 0.0033 - acc: 1.0000 - val_loss: 0.0958 - val_acc: 0.9762\n"
     ]
    }
   ],
   "source": [
    "x_val=mnist_train_images[:10000]\n",
    "partial_x_train=mnist_train_images[10000:]\n",
    "\n",
    "y_val=mnist_train_labels[:10000]\n",
    "partial_y_train=mnist_train_labels[10000:]\n",
    "\n",
    "# train the model\n",
    "history = mnist_model.fit(partial_x_train, \n",
    "                partial_y_train, \n",
    "                epochs=50,\n",
    "                batch_size=512,\n",
    "                validation_data=(x_val, y_val),\n",
    "                verbose=1)"
   ]
  },
  {
   "cell_type": "markdown",
   "metadata": {},
   "source": [
    "The models accuracy is about 97.8%:"
   ]
  },
  {
   "cell_type": "code",
   "execution_count": 8,
   "metadata": {},
   "outputs": [
    {
     "name": "stdout",
     "output_type": "stream",
     "text": [
      "10000/10000 [==============================] - 0s 20us/step\n",
      "Test accuracy: 0.9766\n"
     ]
    }
   ],
   "source": [
    "# test the model\n",
    "mnist_test_loss, mnist_test_acc = mnist_model.evaluate(mnist_test_images, mnist_test_labels)\n",
    "print('Test accuracy:', mnist_test_acc)"
   ]
  },
  {
   "cell_type": "markdown",
   "metadata": {},
   "source": [
    "## make predictions\n",
    "\n",
    "The model is trained and ready to use. In the following code an image of the test dataset is taken to predict which digit it shows."
   ]
  },
  {
   "cell_type": "code",
   "execution_count": 9,
   "metadata": {},
   "outputs": [
    {
     "name": "stdout",
     "output_type": "stream",
     "text": [
      "Prediction correct!\n"
     ]
    }
   ],
   "source": [
    "# inference\n",
    "\n",
    "predictions = mnist_model.predict(mnist_test_images)\n",
    "\n",
    "if (np.argmax(predictions[0]) == mnist_test_labels[0]):\n",
    "    print(\"Prediction correct!\")\n",
    "else:\n",
    "    print(\"Prediction Error, check your code.\")"
   ]
  },
  {
   "cell_type": "markdown",
   "metadata": {},
   "source": [
    "## plot loss and accuracy of the model\n",
    "\n",
    "To get a better impression of what is happening, it may be useful to plot the loss and accuracy of the example to make some interpretations."
   ]
  },
  {
   "cell_type": "code",
   "execution_count": 10,
   "metadata": {},
   "outputs": [
    {
     "data": {
      "text/plain": [
       "dict_keys(['val_loss', 'val_acc', 'loss', 'acc'])"
      ]
     },
     "execution_count": 10,
     "metadata": {},
     "output_type": "execute_result"
    }
   ],
   "source": [
    "history_dict = history.history\n",
    "history_dict.keys()"
   ]
  },
  {
   "cell_type": "code",
   "execution_count": 11,
   "metadata": {
    "scrolled": true
   },
   "outputs": [
    {
     "data": {
      "text/html": [
       "\n",
       "    <div class=\"bk-root\">\n",
       "        <a href=\"https://bokeh.pydata.org\" target=\"_blank\" class=\"bk-logo bk-logo-small bk-logo-notebook\"></a>\n",
       "        <span id=\"1001\">Loading BokehJS ...</span>\n",
       "    </div>"
      ]
     },
     "metadata": {},
     "output_type": "display_data"
    },
    {
     "data": {
      "application/javascript": [
       "\n",
       "(function(root) {\n",
       "  function now() {\n",
       "    return new Date();\n",
       "  }\n",
       "\n",
       "  var force = true;\n",
       "\n",
       "  if (typeof (root._bokeh_onload_callbacks) === \"undefined\" || force === true) {\n",
       "    root._bokeh_onload_callbacks = [];\n",
       "    root._bokeh_is_loading = undefined;\n",
       "  }\n",
       "\n",
       "  var JS_MIME_TYPE = 'application/javascript';\n",
       "  var HTML_MIME_TYPE = 'text/html';\n",
       "  var EXEC_MIME_TYPE = 'application/vnd.bokehjs_exec.v0+json';\n",
       "  var CLASS_NAME = 'output_bokeh rendered_html';\n",
       "\n",
       "  /**\n",
       "   * Render data to the DOM node\n",
       "   */\n",
       "  function render(props, node) {\n",
       "    var script = document.createElement(\"script\");\n",
       "    node.appendChild(script);\n",
       "  }\n",
       "\n",
       "  /**\n",
       "   * Handle when an output is cleared or removed\n",
       "   */\n",
       "  function handleClearOutput(event, handle) {\n",
       "    var cell = handle.cell;\n",
       "\n",
       "    var id = cell.output_area._bokeh_element_id;\n",
       "    var server_id = cell.output_area._bokeh_server_id;\n",
       "    // Clean up Bokeh references\n",
       "    if (id != null && id in Bokeh.index) {\n",
       "      Bokeh.index[id].model.document.clear();\n",
       "      delete Bokeh.index[id];\n",
       "    }\n",
       "\n",
       "    if (server_id !== undefined) {\n",
       "      // Clean up Bokeh references\n",
       "      var cmd = \"from bokeh.io.state import curstate; print(curstate().uuid_to_server['\" + server_id + \"'].get_sessions()[0].document.roots[0]._id)\";\n",
       "      cell.notebook.kernel.execute(cmd, {\n",
       "        iopub: {\n",
       "          output: function(msg) {\n",
       "            var id = msg.content.text.trim();\n",
       "            if (id in Bokeh.index) {\n",
       "              Bokeh.index[id].model.document.clear();\n",
       "              delete Bokeh.index[id];\n",
       "            }\n",
       "          }\n",
       "        }\n",
       "      });\n",
       "      // Destroy server and session\n",
       "      var cmd = \"import bokeh.io.notebook as ion; ion.destroy_server('\" + server_id + \"')\";\n",
       "      cell.notebook.kernel.execute(cmd);\n",
       "    }\n",
       "  }\n",
       "\n",
       "  /**\n",
       "   * Handle when a new output is added\n",
       "   */\n",
       "  function handleAddOutput(event, handle) {\n",
       "    var output_area = handle.output_area;\n",
       "    var output = handle.output;\n",
       "\n",
       "    // limit handleAddOutput to display_data with EXEC_MIME_TYPE content only\n",
       "    if ((output.output_type != \"display_data\") || (!output.data.hasOwnProperty(EXEC_MIME_TYPE))) {\n",
       "      return\n",
       "    }\n",
       "\n",
       "    var toinsert = output_area.element.find(\".\" + CLASS_NAME.split(' ')[0]);\n",
       "\n",
       "    if (output.metadata[EXEC_MIME_TYPE][\"id\"] !== undefined) {\n",
       "      toinsert[toinsert.length - 1].firstChild.textContent = output.data[JS_MIME_TYPE];\n",
       "      // store reference to embed id on output_area\n",
       "      output_area._bokeh_element_id = output.metadata[EXEC_MIME_TYPE][\"id\"];\n",
       "    }\n",
       "    if (output.metadata[EXEC_MIME_TYPE][\"server_id\"] !== undefined) {\n",
       "      var bk_div = document.createElement(\"div\");\n",
       "      bk_div.innerHTML = output.data[HTML_MIME_TYPE];\n",
       "      var script_attrs = bk_div.children[0].attributes;\n",
       "      for (var i = 0; i < script_attrs.length; i++) {\n",
       "        toinsert[toinsert.length - 1].firstChild.setAttribute(script_attrs[i].name, script_attrs[i].value);\n",
       "      }\n",
       "      // store reference to server id on output_area\n",
       "      output_area._bokeh_server_id = output.metadata[EXEC_MIME_TYPE][\"server_id\"];\n",
       "    }\n",
       "  }\n",
       "\n",
       "  function register_renderer(events, OutputArea) {\n",
       "\n",
       "    function append_mime(data, metadata, element) {\n",
       "      // create a DOM node to render to\n",
       "      var toinsert = this.create_output_subarea(\n",
       "        metadata,\n",
       "        CLASS_NAME,\n",
       "        EXEC_MIME_TYPE\n",
       "      );\n",
       "      this.keyboard_manager.register_events(toinsert);\n",
       "      // Render to node\n",
       "      var props = {data: data, metadata: metadata[EXEC_MIME_TYPE]};\n",
       "      render(props, toinsert[toinsert.length - 1]);\n",
       "      element.append(toinsert);\n",
       "      return toinsert\n",
       "    }\n",
       "\n",
       "    /* Handle when an output is cleared or removed */\n",
       "    events.on('clear_output.CodeCell', handleClearOutput);\n",
       "    events.on('delete.Cell', handleClearOutput);\n",
       "\n",
       "    /* Handle when a new output is added */\n",
       "    events.on('output_added.OutputArea', handleAddOutput);\n",
       "\n",
       "    /**\n",
       "     * Register the mime type and append_mime function with output_area\n",
       "     */\n",
       "    OutputArea.prototype.register_mime_type(EXEC_MIME_TYPE, append_mime, {\n",
       "      /* Is output safe? */\n",
       "      safe: true,\n",
       "      /* Index of renderer in `output_area.display_order` */\n",
       "      index: 0\n",
       "    });\n",
       "  }\n",
       "\n",
       "  // register the mime type if in Jupyter Notebook environment and previously unregistered\n",
       "  if (root.Jupyter !== undefined) {\n",
       "    var events = require('base/js/events');\n",
       "    var OutputArea = require('notebook/js/outputarea').OutputArea;\n",
       "\n",
       "    if (OutputArea.prototype.mime_types().indexOf(EXEC_MIME_TYPE) == -1) {\n",
       "      register_renderer(events, OutputArea);\n",
       "    }\n",
       "  }\n",
       "\n",
       "  \n",
       "  if (typeof (root._bokeh_timeout) === \"undefined\" || force === true) {\n",
       "    root._bokeh_timeout = Date.now() + 5000;\n",
       "    root._bokeh_failed_load = false;\n",
       "  }\n",
       "\n",
       "  var NB_LOAD_WARNING = {'data': {'text/html':\n",
       "     \"<div style='background-color: #fdd'>\\n\"+\n",
       "     \"<p>\\n\"+\n",
       "     \"BokehJS does not appear to have successfully loaded. If loading BokehJS from CDN, this \\n\"+\n",
       "     \"may be due to a slow or bad network connection. Possible fixes:\\n\"+\n",
       "     \"</p>\\n\"+\n",
       "     \"<ul>\\n\"+\n",
       "     \"<li>re-rerun `output_notebook()` to attempt to load from CDN again, or</li>\\n\"+\n",
       "     \"<li>use INLINE resources instead, as so:</li>\\n\"+\n",
       "     \"</ul>\\n\"+\n",
       "     \"<code>\\n\"+\n",
       "     \"from bokeh.resources import INLINE\\n\"+\n",
       "     \"output_notebook(resources=INLINE)\\n\"+\n",
       "     \"</code>\\n\"+\n",
       "     \"</div>\"}};\n",
       "\n",
       "  function display_loaded() {\n",
       "    var el = document.getElementById(\"1001\");\n",
       "    if (el != null) {\n",
       "      el.textContent = \"BokehJS is loading...\";\n",
       "    }\n",
       "    if (root.Bokeh !== undefined) {\n",
       "      if (el != null) {\n",
       "        el.textContent = \"BokehJS \" + root.Bokeh.version + \" successfully loaded.\";\n",
       "      }\n",
       "    } else if (Date.now() < root._bokeh_timeout) {\n",
       "      setTimeout(display_loaded, 100)\n",
       "    }\n",
       "  }\n",
       "\n",
       "\n",
       "  function run_callbacks() {\n",
       "    try {\n",
       "      root._bokeh_onload_callbacks.forEach(function(callback) { callback() });\n",
       "    }\n",
       "    finally {\n",
       "      delete root._bokeh_onload_callbacks\n",
       "    }\n",
       "    console.info(\"Bokeh: all callbacks have finished\");\n",
       "  }\n",
       "\n",
       "  function load_libs(js_urls, callback) {\n",
       "    root._bokeh_onload_callbacks.push(callback);\n",
       "    if (root._bokeh_is_loading > 0) {\n",
       "      console.log(\"Bokeh: BokehJS is being loaded, scheduling callback at\", now());\n",
       "      return null;\n",
       "    }\n",
       "    if (js_urls == null || js_urls.length === 0) {\n",
       "      run_callbacks();\n",
       "      return null;\n",
       "    }\n",
       "    console.log(\"Bokeh: BokehJS not loaded, scheduling load and callback at\", now());\n",
       "    root._bokeh_is_loading = js_urls.length;\n",
       "    for (var i = 0; i < js_urls.length; i++) {\n",
       "      var url = js_urls[i];\n",
       "      var s = document.createElement('script');\n",
       "      s.src = url;\n",
       "      s.async = false;\n",
       "      s.onreadystatechange = s.onload = function() {\n",
       "        root._bokeh_is_loading--;\n",
       "        if (root._bokeh_is_loading === 0) {\n",
       "          console.log(\"Bokeh: all BokehJS libraries loaded\");\n",
       "          run_callbacks()\n",
       "        }\n",
       "      };\n",
       "      s.onerror = function() {\n",
       "        console.warn(\"failed to load library \" + url);\n",
       "      };\n",
       "      console.log(\"Bokeh: injecting script tag for BokehJS library: \", url);\n",
       "      document.getElementsByTagName(\"head\")[0].appendChild(s);\n",
       "    }\n",
       "  };var element = document.getElementById(\"1001\");\n",
       "  if (element == null) {\n",
       "    console.log(\"Bokeh: ERROR: autoload.js configured with elementid '1001' but no matching script tag was found. \")\n",
       "    return false;\n",
       "  }\n",
       "\n",
       "  var js_urls = [\"https://cdn.pydata.org/bokeh/release/bokeh-1.0.1.min.js\", \"https://cdn.pydata.org/bokeh/release/bokeh-widgets-1.0.1.min.js\", \"https://cdn.pydata.org/bokeh/release/bokeh-tables-1.0.1.min.js\", \"https://cdn.pydata.org/bokeh/release/bokeh-gl-1.0.1.min.js\"];\n",
       "\n",
       "  var inline_js = [\n",
       "    function(Bokeh) {\n",
       "      Bokeh.set_log_level(\"info\");\n",
       "    },\n",
       "    \n",
       "    function(Bokeh) {\n",
       "      \n",
       "    },\n",
       "    function(Bokeh) {\n",
       "      console.log(\"Bokeh: injecting CSS: https://cdn.pydata.org/bokeh/release/bokeh-1.0.1.min.css\");\n",
       "      Bokeh.embed.inject_css(\"https://cdn.pydata.org/bokeh/release/bokeh-1.0.1.min.css\");\n",
       "      console.log(\"Bokeh: injecting CSS: https://cdn.pydata.org/bokeh/release/bokeh-widgets-1.0.1.min.css\");\n",
       "      Bokeh.embed.inject_css(\"https://cdn.pydata.org/bokeh/release/bokeh-widgets-1.0.1.min.css\");\n",
       "      console.log(\"Bokeh: injecting CSS: https://cdn.pydata.org/bokeh/release/bokeh-tables-1.0.1.min.css\");\n",
       "      Bokeh.embed.inject_css(\"https://cdn.pydata.org/bokeh/release/bokeh-tables-1.0.1.min.css\");\n",
       "    }\n",
       "  ];\n",
       "\n",
       "  function run_inline_js() {\n",
       "    \n",
       "    if ((root.Bokeh !== undefined) || (force === true)) {\n",
       "      for (var i = 0; i < inline_js.length; i++) {\n",
       "        inline_js[i].call(root, root.Bokeh);\n",
       "      }if (force === true) {\n",
       "        display_loaded();\n",
       "      }} else if (Date.now() < root._bokeh_timeout) {\n",
       "      setTimeout(run_inline_js, 100);\n",
       "    } else if (!root._bokeh_failed_load) {\n",
       "      console.log(\"Bokeh: BokehJS failed to load within specified timeout.\");\n",
       "      root._bokeh_failed_load = true;\n",
       "    } else if (force !== true) {\n",
       "      var cell = $(document.getElementById(\"1001\")).parents('.cell').data().cell;\n",
       "      cell.output_area.append_execute_result(NB_LOAD_WARNING)\n",
       "    }\n",
       "\n",
       "  }\n",
       "\n",
       "  if (root._bokeh_is_loading === 0) {\n",
       "    console.log(\"Bokeh: BokehJS loaded, going straight to plotting\");\n",
       "    run_inline_js();\n",
       "  } else {\n",
       "    load_libs(js_urls, function() {\n",
       "      console.log(\"Bokeh: BokehJS plotting callback run at\", now());\n",
       "      run_inline_js();\n",
       "    });\n",
       "  }\n",
       "}(window));"
      ],
      "application/vnd.bokehjs_load.v0+json": "\n(function(root) {\n  function now() {\n    return new Date();\n  }\n\n  var force = true;\n\n  if (typeof (root._bokeh_onload_callbacks) === \"undefined\" || force === true) {\n    root._bokeh_onload_callbacks = [];\n    root._bokeh_is_loading = undefined;\n  }\n\n  \n\n  \n  if (typeof (root._bokeh_timeout) === \"undefined\" || force === true) {\n    root._bokeh_timeout = Date.now() + 5000;\n    root._bokeh_failed_load = false;\n  }\n\n  var NB_LOAD_WARNING = {'data': {'text/html':\n     \"<div style='background-color: #fdd'>\\n\"+\n     \"<p>\\n\"+\n     \"BokehJS does not appear to have successfully loaded. If loading BokehJS from CDN, this \\n\"+\n     \"may be due to a slow or bad network connection. Possible fixes:\\n\"+\n     \"</p>\\n\"+\n     \"<ul>\\n\"+\n     \"<li>re-rerun `output_notebook()` to attempt to load from CDN again, or</li>\\n\"+\n     \"<li>use INLINE resources instead, as so:</li>\\n\"+\n     \"</ul>\\n\"+\n     \"<code>\\n\"+\n     \"from bokeh.resources import INLINE\\n\"+\n     \"output_notebook(resources=INLINE)\\n\"+\n     \"</code>\\n\"+\n     \"</div>\"}};\n\n  function display_loaded() {\n    var el = document.getElementById(\"1001\");\n    if (el != null) {\n      el.textContent = \"BokehJS is loading...\";\n    }\n    if (root.Bokeh !== undefined) {\n      if (el != null) {\n        el.textContent = \"BokehJS \" + root.Bokeh.version + \" successfully loaded.\";\n      }\n    } else if (Date.now() < root._bokeh_timeout) {\n      setTimeout(display_loaded, 100)\n    }\n  }\n\n\n  function run_callbacks() {\n    try {\n      root._bokeh_onload_callbacks.forEach(function(callback) { callback() });\n    }\n    finally {\n      delete root._bokeh_onload_callbacks\n    }\n    console.info(\"Bokeh: all callbacks have finished\");\n  }\n\n  function load_libs(js_urls, callback) {\n    root._bokeh_onload_callbacks.push(callback);\n    if (root._bokeh_is_loading > 0) {\n      console.log(\"Bokeh: BokehJS is being loaded, scheduling callback at\", now());\n      return null;\n    }\n    if (js_urls == null || js_urls.length === 0) {\n      run_callbacks();\n      return null;\n    }\n    console.log(\"Bokeh: BokehJS not loaded, scheduling load and callback at\", now());\n    root._bokeh_is_loading = js_urls.length;\n    for (var i = 0; i < js_urls.length; i++) {\n      var url = js_urls[i];\n      var s = document.createElement('script');\n      s.src = url;\n      s.async = false;\n      s.onreadystatechange = s.onload = function() {\n        root._bokeh_is_loading--;\n        if (root._bokeh_is_loading === 0) {\n          console.log(\"Bokeh: all BokehJS libraries loaded\");\n          run_callbacks()\n        }\n      };\n      s.onerror = function() {\n        console.warn(\"failed to load library \" + url);\n      };\n      console.log(\"Bokeh: injecting script tag for BokehJS library: \", url);\n      document.getElementsByTagName(\"head\")[0].appendChild(s);\n    }\n  };var element = document.getElementById(\"1001\");\n  if (element == null) {\n    console.log(\"Bokeh: ERROR: autoload.js configured with elementid '1001' but no matching script tag was found. \")\n    return false;\n  }\n\n  var js_urls = [\"https://cdn.pydata.org/bokeh/release/bokeh-1.0.1.min.js\", \"https://cdn.pydata.org/bokeh/release/bokeh-widgets-1.0.1.min.js\", \"https://cdn.pydata.org/bokeh/release/bokeh-tables-1.0.1.min.js\", \"https://cdn.pydata.org/bokeh/release/bokeh-gl-1.0.1.min.js\"];\n\n  var inline_js = [\n    function(Bokeh) {\n      Bokeh.set_log_level(\"info\");\n    },\n    \n    function(Bokeh) {\n      \n    },\n    function(Bokeh) {\n      console.log(\"Bokeh: injecting CSS: https://cdn.pydata.org/bokeh/release/bokeh-1.0.1.min.css\");\n      Bokeh.embed.inject_css(\"https://cdn.pydata.org/bokeh/release/bokeh-1.0.1.min.css\");\n      console.log(\"Bokeh: injecting CSS: https://cdn.pydata.org/bokeh/release/bokeh-widgets-1.0.1.min.css\");\n      Bokeh.embed.inject_css(\"https://cdn.pydata.org/bokeh/release/bokeh-widgets-1.0.1.min.css\");\n      console.log(\"Bokeh: injecting CSS: https://cdn.pydata.org/bokeh/release/bokeh-tables-1.0.1.min.css\");\n      Bokeh.embed.inject_css(\"https://cdn.pydata.org/bokeh/release/bokeh-tables-1.0.1.min.css\");\n    }\n  ];\n\n  function run_inline_js() {\n    \n    if ((root.Bokeh !== undefined) || (force === true)) {\n      for (var i = 0; i < inline_js.length; i++) {\n        inline_js[i].call(root, root.Bokeh);\n      }if (force === true) {\n        display_loaded();\n      }} else if (Date.now() < root._bokeh_timeout) {\n      setTimeout(run_inline_js, 100);\n    } else if (!root._bokeh_failed_load) {\n      console.log(\"Bokeh: BokehJS failed to load within specified timeout.\");\n      root._bokeh_failed_load = true;\n    } else if (force !== true) {\n      var cell = $(document.getElementById(\"1001\")).parents('.cell').data().cell;\n      cell.output_area.append_execute_result(NB_LOAD_WARNING)\n    }\n\n  }\n\n  if (root._bokeh_is_loading === 0) {\n    console.log(\"Bokeh: BokehJS loaded, going straight to plotting\");\n    run_inline_js();\n  } else {\n    load_libs(js_urls, function() {\n      console.log(\"Bokeh: BokehJS plotting callback run at\", now());\n      run_inline_js();\n    });\n  }\n}(window));"
     },
     "metadata": {},
     "output_type": "display_data"
    },
    {
     "data": {
      "text/html": [
       "\n",
       "\n",
       "\n",
       "\n",
       "\n",
       "\n",
       "  <div class=\"bk-root\" id=\"58a3479b-1602-42ee-84f1-4df962d275c0\"></div>\n"
      ]
     },
     "metadata": {},
     "output_type": "display_data"
    },
    {
     "data": {
      "application/javascript": [
       "(function(root) {\n",
       "  function embed_document(root) {\n",
       "    \n",
       "  var docs_json = {\"187a1734-725c-4c47-9d46-fcb6a231b43f\":{\"roots\":{\"references\":[{\"attributes\":{\"below\":[{\"id\":\"1011\",\"type\":\"LinearAxis\"}],\"left\":[{\"id\":\"1016\",\"type\":\"LinearAxis\"}],\"renderers\":[{\"id\":\"1011\",\"type\":\"LinearAxis\"},{\"id\":\"1015\",\"type\":\"Grid\"},{\"id\":\"1016\",\"type\":\"LinearAxis\"},{\"id\":\"1020\",\"type\":\"Grid\"},{\"id\":\"1029\",\"type\":\"BoxAnnotation\"},{\"id\":\"1039\",\"type\":\"GlyphRenderer\"},{\"id\":\"1044\",\"type\":\"GlyphRenderer\"}],\"title\":{\"id\":\"1047\",\"type\":\"Title\"},\"toolbar\":{\"id\":\"1027\",\"type\":\"Toolbar\"},\"x_range\":{\"id\":\"1003\",\"type\":\"DataRange1d\"},\"x_scale\":{\"id\":\"1007\",\"type\":\"LinearScale\"},\"y_range\":{\"id\":\"1005\",\"type\":\"DataRange1d\"},\"y_scale\":{\"id\":\"1009\",\"type\":\"LinearScale\"}},\"id\":\"1002\",\"subtype\":\"Figure\",\"type\":\"Plot\"},{\"attributes\":{},\"id\":\"1021\",\"type\":\"PanTool\"},{\"attributes\":{},\"id\":\"1022\",\"type\":\"WheelZoomTool\"},{\"attributes\":{},\"id\":\"1053\",\"type\":\"UnionRenderers\"},{\"attributes\":{\"overlay\":{\"id\":\"1029\",\"type\":\"BoxAnnotation\"}},\"id\":\"1023\",\"type\":\"BoxZoomTool\"},{\"attributes\":{},\"id\":\"1054\",\"type\":\"Selection\"},{\"attributes\":{},\"id\":\"1024\",\"type\":\"SaveTool\"},{\"attributes\":{},\"id\":\"1055\",\"type\":\"UnionRenderers\"},{\"attributes\":{},\"id\":\"1025\",\"type\":\"ResetTool\"},{\"attributes\":{\"callback\":null},\"id\":\"1003\",\"type\":\"DataRange1d\"},{\"attributes\":{},\"id\":\"1056\",\"type\":\"Selection\"},{\"attributes\":{\"callback\":null,\"data\":{\"x\":[1,2,3,4,5,6,7,8,9,10,11,12,13,14,15,16,17,18,19,20,21,22,23,24,25,26,27,28,29,30,31,32,33,34,35,36,37,38,39,40,41,42,43,44,45,46,47,48,49,50],\"y\":[0.6313862066364289,0.27102539697647093,0.21276466420173645,0.17671433706283568,0.1502273302936554,0.13138647196769715,0.11511697382450103,0.10251853734970093,0.0922026362657547,0.08334580376148223,0.07591150176882744,0.06899283350229263,0.06239497911930084,0.057098973709344865,0.05248325729370117,0.047904544699192045,0.0436777052628994,0.041108012638092044,0.037708868763446805,0.03395347809791565,0.031457257919311525,0.028935344408154488,0.0270365611320734,0.02456779875218868,0.02276504215180874,0.021071271644234658,0.019287487407922743,0.01802419412612915,0.01666931807279587,0.015211133955717087,0.014092498449087143,0.012911804714500904,0.012089216249585151,0.010774121249616147,0.010433678894042968,0.009635375227630139,0.008632563920617103,0.008109071646034718,0.007333868901729584,0.006673295890241861,0.006267785438299179,0.005778731215149165,0.005516775344014168,0.005137039539217949,0.0048032396036386486,0.004415963902845979,0.004131936445832252,0.0037308383352309465,0.0034809957362711428,0.003297473874539137]},\"selected\":{\"id\":\"1054\",\"type\":\"Selection\"},\"selection_policy\":{\"id\":\"1053\",\"type\":\"UnionRenderers\"}},\"id\":\"1036\",\"type\":\"ColumnDataSource\"},{\"attributes\":{\"source\":{\"id\":\"1036\",\"type\":\"ColumnDataSource\"}},\"id\":\"1040\",\"type\":\"CDSView\"},{\"attributes\":{\"line_alpha\":0.1,\"line_color\":\"#1f77b4\",\"line_width\":2,\"x\":{\"field\":\"x\"},\"y\":{\"field\":\"y\"}},\"id\":\"1038\",\"type\":\"Line\"},{\"attributes\":{},\"id\":\"1026\",\"type\":\"HelpTool\"},{\"attributes\":{\"callback\":null},\"id\":\"1005\",\"type\":\"DataRange1d\"},{\"attributes\":{\"active_drag\":\"auto\",\"active_inspect\":\"auto\",\"active_multi\":null,\"active_scroll\":\"auto\",\"active_tap\":\"auto\",\"tools\":[{\"id\":\"1021\",\"type\":\"PanTool\"},{\"id\":\"1022\",\"type\":\"WheelZoomTool\"},{\"id\":\"1023\",\"type\":\"BoxZoomTool\"},{\"id\":\"1024\",\"type\":\"SaveTool\"},{\"id\":\"1025\",\"type\":\"ResetTool\"},{\"id\":\"1026\",\"type\":\"HelpTool\"}]},\"id\":\"1027\",\"type\":\"Toolbar\"},{\"attributes\":{},\"id\":\"1007\",\"type\":\"LinearScale\"},{\"attributes\":{\"line_color\":\"blue\",\"line_width\":2,\"x\":{\"field\":\"x\"},\"y\":{\"field\":\"y\"}},\"id\":\"1037\",\"type\":\"Line\"},{\"attributes\":{\"bottom_units\":\"screen\",\"fill_alpha\":{\"value\":0.5},\"fill_color\":{\"value\":\"lightgrey\"},\"left_units\":\"screen\",\"level\":\"overlay\",\"line_alpha\":{\"value\":1.0},\"line_color\":{\"value\":\"black\"},\"line_dash\":[4,4],\"line_width\":{\"value\":2},\"plot\":null,\"render_mode\":\"css\",\"right_units\":\"screen\",\"top_units\":\"screen\"},\"id\":\"1029\",\"type\":\"BoxAnnotation\"},{\"attributes\":{},\"id\":\"1009\",\"type\":\"LinearScale\"},{\"attributes\":{\"formatter\":{\"id\":\"1049\",\"type\":\"BasicTickFormatter\"},\"plot\":{\"id\":\"1002\",\"subtype\":\"Figure\",\"type\":\"Plot\"},\"ticker\":{\"id\":\"1012\",\"type\":\"BasicTicker\"}},\"id\":\"1011\",\"type\":\"LinearAxis\"},{\"attributes\":{},\"id\":\"1012\",\"type\":\"BasicTicker\"},{\"attributes\":{\"plot\":null,\"text\":\"\"},\"id\":\"1047\",\"type\":\"Title\"},{\"attributes\":{\"line_color\":\"red\",\"line_width\":2,\"x\":{\"field\":\"x\"},\"y\":{\"field\":\"y\"}},\"id\":\"1042\",\"type\":\"Line\"},{\"attributes\":{\"plot\":{\"id\":\"1002\",\"subtype\":\"Figure\",\"type\":\"Plot\"},\"ticker\":{\"id\":\"1012\",\"type\":\"BasicTicker\"}},\"id\":\"1015\",\"type\":\"Grid\"},{\"attributes\":{\"formatter\":{\"id\":\"1051\",\"type\":\"BasicTickFormatter\"},\"plot\":{\"id\":\"1002\",\"subtype\":\"Figure\",\"type\":\"Plot\"},\"ticker\":{\"id\":\"1017\",\"type\":\"BasicTicker\"}},\"id\":\"1016\",\"type\":\"LinearAxis\"},{\"attributes\":{\"line_alpha\":0.1,\"line_color\":\"#1f77b4\",\"line_width\":2,\"x\":{\"field\":\"x\"},\"y\":{\"field\":\"y\"}},\"id\":\"1043\",\"type\":\"Line\"},{\"attributes\":{},\"id\":\"1017\",\"type\":\"BasicTicker\"},{\"attributes\":{\"data_source\":{\"id\":\"1041\",\"type\":\"ColumnDataSource\"},\"glyph\":{\"id\":\"1042\",\"type\":\"Line\"},\"hover_glyph\":null,\"muted_glyph\":null,\"nonselection_glyph\":{\"id\":\"1043\",\"type\":\"Line\"},\"selection_glyph\":null,\"view\":{\"id\":\"1045\",\"type\":\"CDSView\"}},\"id\":\"1044\",\"type\":\"GlyphRenderer\"},{\"attributes\":{\"data_source\":{\"id\":\"1036\",\"type\":\"ColumnDataSource\"},\"glyph\":{\"id\":\"1037\",\"type\":\"Line\"},\"hover_glyph\":null,\"muted_glyph\":null,\"nonselection_glyph\":{\"id\":\"1038\",\"type\":\"Line\"},\"selection_glyph\":null,\"view\":{\"id\":\"1040\",\"type\":\"CDSView\"}},\"id\":\"1039\",\"type\":\"GlyphRenderer\"},{\"attributes\":{\"dimension\":1,\"plot\":{\"id\":\"1002\",\"subtype\":\"Figure\",\"type\":\"Plot\"},\"ticker\":{\"id\":\"1017\",\"type\":\"BasicTicker\"}},\"id\":\"1020\",\"type\":\"Grid\"},{\"attributes\":{\"source\":{\"id\":\"1041\",\"type\":\"ColumnDataSource\"}},\"id\":\"1045\",\"type\":\"CDSView\"},{\"attributes\":{\"callback\":null,\"data\":{\"x\":[1,2,3,4,5,6,7,8,9,10,11,12,13,14,15,16,17,18,19,20,21,22,23,24,25,26,27,28,29,30,31,32,33,34,35,36,37,38,39,40,41,42,43,44,45,46,47,48,49,50],\"y\":[0.30981718230247496,0.2415236938238144,0.19979930253028869,0.17564673376083373,0.15864917175769805,0.1458744495034218,0.13428218970298766,0.12344546700716019,0.11846745644807816,0.11170657904148101,0.11146348510980605,0.10329214728474617,0.10195209683179855,0.1005930118560791,0.09842009863853454,0.09323935573101044,0.0922215877354145,0.09024975160360336,0.0895860846221447,0.08747524936199189,0.08780888905525208,0.0873313986301422,0.08770717157721519,0.08817516849637032,0.08608705155849457,0.08835591819882394,0.0893929663181305,0.08587040686607361,0.08446141382455825,0.08659516642689705,0.08489587243199348,0.0859511570930481,0.08647887012958527,0.08801328156590461,0.08582116542458534,0.08827974135875702,0.08876494784355164,0.08684968276023865,0.08788619604110717,0.09063103744387627,0.09057782111167907,0.09107652416825295,0.09168407282829284,0.0923045828640461,0.09402580022811889,0.0926580757021904,0.09113326994180679,0.09372456886172295,0.09291312845945358,0.09582928991913796]},\"selected\":{\"id\":\"1056\",\"type\":\"Selection\"},\"selection_policy\":{\"id\":\"1055\",\"type\":\"UnionRenderers\"}},\"id\":\"1041\",\"type\":\"ColumnDataSource\"},{\"attributes\":{},\"id\":\"1049\",\"type\":\"BasicTickFormatter\"},{\"attributes\":{},\"id\":\"1051\",\"type\":\"BasicTickFormatter\"}],\"root_ids\":[\"1002\"]},\"title\":\"Bokeh Application\",\"version\":\"1.0.1\"}};\n",
       "  var render_items = [{\"docid\":\"187a1734-725c-4c47-9d46-fcb6a231b43f\",\"roots\":{\"1002\":\"58a3479b-1602-42ee-84f1-4df962d275c0\"}}];\n",
       "  root.Bokeh.embed.embed_items_notebook(docs_json, render_items);\n",
       "\n",
       "  }\n",
       "  if (root.Bokeh !== undefined) {\n",
       "    embed_document(root);\n",
       "  } else {\n",
       "    var attempts = 0;\n",
       "    var timer = setInterval(function(root) {\n",
       "      if (root.Bokeh !== undefined) {\n",
       "        embed_document(root);\n",
       "        clearInterval(timer);\n",
       "      }\n",
       "      attempts++;\n",
       "      if (attempts > 100) {\n",
       "        console.log(\"Bokeh: ERROR: Unable to run BokehJS code because BokehJS library is missing\");\n",
       "        clearInterval(timer);\n",
       "      }\n",
       "    }, 10, root)\n",
       "  }\n",
       "})(window);"
      ],
      "application/vnd.bokehjs_exec.v0+json": ""
     },
     "metadata": {
      "application/vnd.bokehjs_exec.v0+json": {
       "id": "1002"
      }
     },
     "output_type": "display_data"
    }
   ],
   "source": [
    "from bokeh.plotting import figure, show\n",
    "from bokeh.io import output_notebook\n",
    "\n",
    "acc = history.history['acc']\n",
    "val_acc = history.history['val_acc']\n",
    "loss = history.history['loss']\n",
    "val_loss = history.history['val_loss']\n",
    "\n",
    "epochs = range(1, len(acc) + 1)\n",
    "\n",
    "output_notebook()\n",
    "\n",
    "p = figure()\n",
    "p.line(epochs, loss, color='blue', line_width=2)\n",
    "p.line(epochs, val_loss, color='red', line_width=2)\n",
    "show(p)"
   ]
  },
  {
   "cell_type": "markdown",
   "metadata": {},
   "source": [
    "Also the accuracy of training data and validation data is plotted. It can be seen that even after many epochs, there is no significant improvement."
   ]
  },
  {
   "cell_type": "code",
   "execution_count": 12,
   "metadata": {},
   "outputs": [
    {
     "data": {
      "text/html": [
       "\n",
       "\n",
       "\n",
       "\n",
       "\n",
       "\n",
       "  <div class=\"bk-root\" id=\"1bdae238-2d6a-4d58-aec1-170a7faef34c\"></div>\n"
      ]
     },
     "metadata": {},
     "output_type": "display_data"
    },
    {
     "data": {
      "application/javascript": [
       "(function(root) {\n",
       "  function embed_document(root) {\n",
       "    \n",
       "  var docs_json = {\"0587ec22-90ce-408f-a177-2b93922d62a4\":{\"roots\":{\"references\":[{\"attributes\":{\"below\":[{\"id\":\"1132\",\"type\":\"LinearAxis\"}],\"left\":[{\"id\":\"1137\",\"type\":\"LinearAxis\"}],\"renderers\":[{\"id\":\"1132\",\"type\":\"LinearAxis\"},{\"id\":\"1136\",\"type\":\"Grid\"},{\"id\":\"1137\",\"type\":\"LinearAxis\"},{\"id\":\"1141\",\"type\":\"Grid\"},{\"id\":\"1150\",\"type\":\"BoxAnnotation\"},{\"id\":\"1160\",\"type\":\"GlyphRenderer\"},{\"id\":\"1165\",\"type\":\"GlyphRenderer\"}],\"title\":{\"id\":\"1179\",\"type\":\"Title\"},\"toolbar\":{\"id\":\"1148\",\"type\":\"Toolbar\"},\"x_range\":{\"id\":\"1124\",\"type\":\"DataRange1d\"},\"x_scale\":{\"id\":\"1128\",\"type\":\"LinearScale\"},\"y_range\":{\"id\":\"1126\",\"type\":\"DataRange1d\"},\"y_scale\":{\"id\":\"1130\",\"type\":\"LinearScale\"}},\"id\":\"1123\",\"subtype\":\"Figure\",\"type\":\"Plot\"},{\"attributes\":{\"callback\":null},\"id\":\"1126\",\"type\":\"DataRange1d\"},{\"attributes\":{\"line_alpha\":0.1,\"line_color\":\"#1f77b4\",\"line_width\":2,\"x\":{\"field\":\"x\"},\"y\":{\"field\":\"y\"}},\"id\":\"1164\",\"type\":\"Line\"},{\"attributes\":{\"overlay\":{\"id\":\"1150\",\"type\":\"BoxAnnotation\"}},\"id\":\"1144\",\"type\":\"BoxZoomTool\"},{\"attributes\":{\"data_source\":{\"id\":\"1162\",\"type\":\"ColumnDataSource\"},\"glyph\":{\"id\":\"1163\",\"type\":\"Line\"},\"hover_glyph\":null,\"muted_glyph\":null,\"nonselection_glyph\":{\"id\":\"1164\",\"type\":\"Line\"},\"selection_glyph\":null,\"view\":{\"id\":\"1166\",\"type\":\"CDSView\"}},\"id\":\"1165\",\"type\":\"GlyphRenderer\"},{\"attributes\":{\"source\":{\"id\":\"1157\",\"type\":\"ColumnDataSource\"}},\"id\":\"1161\",\"type\":\"CDSView\"},{\"attributes\":{\"source\":{\"id\":\"1162\",\"type\":\"ColumnDataSource\"}},\"id\":\"1166\",\"type\":\"CDSView\"},{\"attributes\":{},\"id\":\"1188\",\"type\":\"Selection\"},{\"attributes\":{},\"id\":\"1142\",\"type\":\"PanTool\"},{\"attributes\":{},\"id\":\"1181\",\"type\":\"BasicTickFormatter\"},{\"attributes\":{},\"id\":\"1138\",\"type\":\"BasicTicker\"},{\"attributes\":{},\"id\":\"1183\",\"type\":\"BasicTickFormatter\"},{\"attributes\":{\"dimension\":1,\"plot\":{\"id\":\"1123\",\"subtype\":\"Figure\",\"type\":\"Plot\"},\"ticker\":{\"id\":\"1138\",\"type\":\"BasicTicker\"}},\"id\":\"1141\",\"type\":\"Grid\"},{\"attributes\":{\"callback\":null,\"data\":{\"x\":[1,2,3,4,5,6,7,8,9,10,11,12,13,14,15,16,17,18,19,20,21,22,23,24,25,26,27,28,29,30,31,32,33,34,35,36,37,38,39,40,41,42,43,44,45,46,47,48,49,50],\"y\":[0.8343400001907348,0.9252000000953674,0.9405600000190735,0.9505800001907349,0.9580400000190735,0.9630400000953674,0.9674599998855591,0.971179999885559,0.9747000001144409,0.9766799999809265,0.9792800000762939,0.9805200000572205,0.9823599999809265,0.9842399999809265,0.9857200001335144,0.9869800000572204,0.9888599998283386,0.9893199998283386,0.9905000001335144,0.9913999999046326,0.9925800001525878,0.993360000076294,0.9941799998283386,0.9950200001525878,0.99532,0.9960800001525879,0.996660000076294,0.9971599998283386,0.99734,0.9976400001525879,0.9980600001525879,0.99838,0.99838,0.99904,0.99896,0.99892,0.99926,0.9992600000762939,0.9994800000762939,0.9996000000762939,0.99956,0.99984,0.99972,0.99972,0.99976,0.99988,0.99976,0.99992,0.99988,0.99996]},\"selected\":{\"id\":\"1186\",\"type\":\"Selection\"},\"selection_policy\":{\"id\":\"1185\",\"type\":\"UnionRenderers\"}},\"id\":\"1157\",\"type\":\"ColumnDataSource\"},{\"attributes\":{},\"id\":\"1185\",\"type\":\"UnionRenderers\"},{\"attributes\":{},\"id\":\"1145\",\"type\":\"SaveTool\"},{\"attributes\":{},\"id\":\"1186\",\"type\":\"Selection\"},{\"attributes\":{},\"id\":\"1143\",\"type\":\"WheelZoomTool\"},{\"attributes\":{},\"id\":\"1147\",\"type\":\"HelpTool\"},{\"attributes\":{\"bottom_units\":\"screen\",\"fill_alpha\":{\"value\":0.5},\"fill_color\":{\"value\":\"lightgrey\"},\"left_units\":\"screen\",\"level\":\"overlay\",\"line_alpha\":{\"value\":1.0},\"line_color\":{\"value\":\"black\"},\"line_dash\":[4,4],\"line_width\":{\"value\":2},\"plot\":null,\"render_mode\":\"css\",\"right_units\":\"screen\",\"top_units\":\"screen\"},\"id\":\"1150\",\"type\":\"BoxAnnotation\"},{\"attributes\":{\"callback\":null,\"data\":{\"x\":[1,2,3,4,5,6,7,8,9,10,11,12,13,14,15,16,17,18,19,20,21,22,23,24,25,26,27,28,29,30,31,32,33,34,35,36,37,38,39,40,41,42,43,44,45,46,47,48,49,50],\"y\":[0.913599999332428,0.9313000001907349,0.9428000001907348,0.9505000004768371,0.9550000006675721,0.9593000005722045,0.962800000667572,0.9656999992370605,0.9653000007629394,0.967000000667572,0.9663999992370605,0.9703999995231628,0.9698999994277954,0.9702999994277954,0.9705999992370605,0.9729999994277954,0.9727999994277954,0.9731999994277954,0.9734999995231628,0.9743999992370606,0.9743999996185303,0.9743999997138977,0.9740999997138977,0.9735999994277954,0.9749999995231629,0.9745999996185303,0.9741999995231628,0.9755999996185303,0.9753999995231628,0.9746999994277954,0.9756999996185303,0.9760999995231628,0.9759999997138977,0.9759999995231629,0.9756999996185303,0.9770999994277955,0.9753999996185303,0.9755999996185303,0.9768999996185302,0.9757999996185303,0.9765999995231628,0.9767999996185303,0.9760999996185302,0.9761999996185303,0.9764999996185303,0.9768999996185302,0.9771999996185303,0.9770999996185302,0.9774999996185303,0.9761999996185303]},\"selected\":{\"id\":\"1188\",\"type\":\"Selection\"},\"selection_policy\":{\"id\":\"1187\",\"type\":\"UnionRenderers\"}},\"id\":\"1162\",\"type\":\"ColumnDataSource\"},{\"attributes\":{\"plot\":null,\"text\":\"\"},\"id\":\"1179\",\"type\":\"Title\"},{\"attributes\":{},\"id\":\"1128\",\"type\":\"LinearScale\"},{\"attributes\":{\"line_color\":\"red\",\"line_width\":2,\"x\":{\"field\":\"x\"},\"y\":{\"field\":\"y\"}},\"id\":\"1163\",\"type\":\"Line\"},{\"attributes\":{},\"id\":\"1187\",\"type\":\"UnionRenderers\"},{\"attributes\":{\"plot\":{\"id\":\"1123\",\"subtype\":\"Figure\",\"type\":\"Plot\"},\"ticker\":{\"id\":\"1133\",\"type\":\"BasicTicker\"}},\"id\":\"1136\",\"type\":\"Grid\"},{\"attributes\":{\"active_drag\":\"auto\",\"active_inspect\":\"auto\",\"active_multi\":null,\"active_scroll\":\"auto\",\"active_tap\":\"auto\",\"tools\":[{\"id\":\"1142\",\"type\":\"PanTool\"},{\"id\":\"1143\",\"type\":\"WheelZoomTool\"},{\"id\":\"1144\",\"type\":\"BoxZoomTool\"},{\"id\":\"1145\",\"type\":\"SaveTool\"},{\"id\":\"1146\",\"type\":\"ResetTool\"},{\"id\":\"1147\",\"type\":\"HelpTool\"}]},\"id\":\"1148\",\"type\":\"Toolbar\"},{\"attributes\":{},\"id\":\"1133\",\"type\":\"BasicTicker\"},{\"attributes\":{},\"id\":\"1130\",\"type\":\"LinearScale\"},{\"attributes\":{\"line_color\":\"blue\",\"line_width\":2,\"x\":{\"field\":\"x\"},\"y\":{\"field\":\"y\"}},\"id\":\"1158\",\"type\":\"Line\"},{\"attributes\":{\"line_alpha\":0.1,\"line_color\":\"#1f77b4\",\"line_width\":2,\"x\":{\"field\":\"x\"},\"y\":{\"field\":\"y\"}},\"id\":\"1159\",\"type\":\"Line\"},{\"attributes\":{\"data_source\":{\"id\":\"1157\",\"type\":\"ColumnDataSource\"},\"glyph\":{\"id\":\"1158\",\"type\":\"Line\"},\"hover_glyph\":null,\"muted_glyph\":null,\"nonselection_glyph\":{\"id\":\"1159\",\"type\":\"Line\"},\"selection_glyph\":null,\"view\":{\"id\":\"1161\",\"type\":\"CDSView\"}},\"id\":\"1160\",\"type\":\"GlyphRenderer\"},{\"attributes\":{},\"id\":\"1146\",\"type\":\"ResetTool\"},{\"attributes\":{\"formatter\":{\"id\":\"1181\",\"type\":\"BasicTickFormatter\"},\"plot\":{\"id\":\"1123\",\"subtype\":\"Figure\",\"type\":\"Plot\"},\"ticker\":{\"id\":\"1133\",\"type\":\"BasicTicker\"}},\"id\":\"1132\",\"type\":\"LinearAxis\"},{\"attributes\":{\"formatter\":{\"id\":\"1183\",\"type\":\"BasicTickFormatter\"},\"plot\":{\"id\":\"1123\",\"subtype\":\"Figure\",\"type\":\"Plot\"},\"ticker\":{\"id\":\"1138\",\"type\":\"BasicTicker\"}},\"id\":\"1137\",\"type\":\"LinearAxis\"},{\"attributes\":{\"callback\":null},\"id\":\"1124\",\"type\":\"DataRange1d\"}],\"root_ids\":[\"1123\"]},\"title\":\"Bokeh Application\",\"version\":\"1.0.1\"}};\n",
       "  var render_items = [{\"docid\":\"0587ec22-90ce-408f-a177-2b93922d62a4\",\"roots\":{\"1123\":\"1bdae238-2d6a-4d58-aec1-170a7faef34c\"}}];\n",
       "  root.Bokeh.embed.embed_items_notebook(docs_json, render_items);\n",
       "\n",
       "  }\n",
       "  if (root.Bokeh !== undefined) {\n",
       "    embed_document(root);\n",
       "  } else {\n",
       "    var attempts = 0;\n",
       "    var timer = setInterval(function(root) {\n",
       "      if (root.Bokeh !== undefined) {\n",
       "        embed_document(root);\n",
       "        clearInterval(timer);\n",
       "      }\n",
       "      attempts++;\n",
       "      if (attempts > 100) {\n",
       "        console.log(\"Bokeh: ERROR: Unable to run BokehJS code because BokehJS library is missing\");\n",
       "        clearInterval(timer);\n",
       "      }\n",
       "    }, 10, root)\n",
       "  }\n",
       "})(window);"
      ],
      "application/vnd.bokehjs_exec.v0+json": ""
     },
     "metadata": {
      "application/vnd.bokehjs_exec.v0+json": {
       "id": "1123"
      }
     },
     "output_type": "display_data"
    }
   ],
   "source": [
    "p = figure()\n",
    "p.line(epochs, acc, color='blue', line_width=2)\n",
    "p.line(epochs, val_acc, color='red', line_width=2)\n",
    "show(p)"
   ]
  },
  {
   "cell_type": "markdown",
   "metadata": {},
   "source": [
    "## improve the performance of training the model\n",
    "The first plot shows that the loss of the training data (blue) decreases permanently in each epoch. At about 30, however, the loss of the validation data (red) starts to increase. This is the point where the model starts to overfit the training data. The training can be stopped at this point. Following code shows, how this is implemented in Keras, which is quite straight forward.\n"
   ]
  },
  {
   "cell_type": "code",
   "execution_count": 13,
   "metadata": {},
   "outputs": [
    {
     "name": "stdout",
     "output_type": "stream",
     "text": [
      "Train on 50000 samples, validate on 10000 samples\n",
      "Epoch 1/50\n",
      "50000/50000 [==============================] - 1s 10us/step - loss: 0.0031 - acc: 0.9999 - val_loss: 0.0954 - val_acc: 0.9764\n",
      "Epoch 2/50\n",
      "50000/50000 [==============================] - 0s 10us/step - loss: 0.0028 - acc: 0.9999 - val_loss: 0.0955 - val_acc: 0.9771\n",
      "Epoch 3/50\n",
      "50000/50000 [==============================] - 0s 10us/step - loss: 0.0026 - acc: 1.0000 - val_loss: 0.0974 - val_acc: 0.9761\n",
      "Epoch 4/50\n",
      "50000/50000 [==============================] - 0s 10us/step - loss: 0.0025 - acc: 1.0000 - val_loss: 0.0968 - val_acc: 0.9762\n",
      "Epoch 5/50\n",
      "50000/50000 [==============================] - 1s 10us/step - loss: 0.0023 - acc: 1.0000 - val_loss: 0.0978 - val_acc: 0.9768\n",
      "Epoch 6/50\n",
      "50000/50000 [==============================] - 0s 10us/step - loss: 0.0021 - acc: 1.0000 - val_loss: 0.0975 - val_acc: 0.9778\n",
      "Epoch 7/50\n",
      "50000/50000 [==============================] - 0s 10us/step - loss: 0.0021 - acc: 1.0000 - val_loss: 0.1003 - val_acc: 0.9778\n",
      "Epoch 8/50\n",
      "50000/50000 [==============================] - 0s 10us/step - loss: 0.0019 - acc: 1.0000 - val_loss: 0.0967 - val_acc: 0.9769\n",
      "Epoch 9/50\n",
      "50000/50000 [==============================] - 0s 10us/step - loss: 0.0017 - acc: 1.0000 - val_loss: 0.0988 - val_acc: 0.9778\n",
      "Epoch 10/50\n",
      "50000/50000 [==============================] - 0s 10us/step - loss: 0.0016 - acc: 1.0000 - val_loss: 0.0990 - val_acc: 0.9767\n",
      "Epoch 11/50\n",
      "50000/50000 [==============================] - 0s 10us/step - loss: 0.0015 - acc: 1.0000 - val_loss: 0.1001 - val_acc: 0.9780\n",
      "Epoch 12/50\n",
      "50000/50000 [==============================] - 0s 10us/step - loss: 0.0015 - acc: 1.0000 - val_loss: 0.1008 - val_acc: 0.9772\n",
      "Epoch 13/50\n",
      "50000/50000 [==============================] - 1s 10us/step - loss: 0.0014 - acc: 1.0000 - val_loss: 0.1019 - val_acc: 0.9773\n",
      "Epoch 14/50\n",
      "50000/50000 [==============================] - 0s 10us/step - loss: 0.0014 - acc: 1.0000 - val_loss: 0.1016 - val_acc: 0.9766\n",
      "Epoch 15/50\n",
      "50000/50000 [==============================] - 0s 10us/step - loss: 0.0012 - acc: 1.0000 - val_loss: 0.1026 - val_acc: 0.9775\n",
      "Epoch 16/50\n",
      "50000/50000 [==============================] - 0s 10us/step - loss: 0.0011 - acc: 1.0000 - val_loss: 0.1025 - val_acc: 0.9768\n",
      "Epoch 17/50\n",
      "50000/50000 [==============================] - 0s 10us/step - loss: 0.0011 - acc: 1.0000 - val_loss: 0.1041 - val_acc: 0.9770\n",
      "Epoch 18/50\n",
      "50000/50000 [==============================] - 1s 10us/step - loss: 0.0010 - acc: 1.0000 - val_loss: 0.1046 - val_acc: 0.9766\n",
      "Epoch 19/50\n",
      "50000/50000 [==============================] - 0s 10us/step - loss: 9.6698e-04 - acc: 1.0000 - val_loss: 0.1043 - val_acc: 0.9766\n",
      "Epoch 20/50\n",
      "50000/50000 [==============================] - 0s 10us/step - loss: 8.8918e-04 - acc: 1.0000 - val_loss: 0.1063 - val_acc: 0.9773\n",
      "Epoch 21/50\n",
      "50000/50000 [==============================] - 0s 10us/step - loss: 8.3508e-04 - acc: 1.0000 - val_loss: 0.1059 - val_acc: 0.9769\n"
     ]
    }
   ],
   "source": [
    "# The patience parameter is the amount of epochs to check for improvement\n",
    "early_stop = keras.callbacks.EarlyStopping(monitor='val_loss', patience=20)\n",
    "\n",
    "# train the model\n",
    "history = mnist_model.fit(partial_x_train, \n",
    "                partial_y_train, \n",
    "                epochs=50,\n",
    "                batch_size=512,\n",
    "                validation_data=(x_val, y_val),\n",
    "                callbacks=[early_stop],\n",
    "                verbose=1)"
   ]
  },
  {
   "cell_type": "markdown",
   "metadata": {},
   "source": [
    "By this way the same accuracy can be achieved, by significantly less epochs. The training takes about half of the time. This is what Geoffrey Hinton calls a beautiful free lunch."
   ]
  },
  {
   "cell_type": "code",
   "execution_count": 14,
   "metadata": {},
   "outputs": [
    {
     "name": "stdout",
     "output_type": "stream",
     "text": [
      "10000/10000 [==============================] - 0s 20us/step\n",
      "Test accuracy: 0.9772\n"
     ]
    }
   ],
   "source": [
    "# test the model\n",
    "mnist_test_loss, mnist_test_acc = mnist_model.evaluate(mnist_test_images, mnist_test_labels)\n",
    "print('Test accuracy:', mnist_test_acc)"
   ]
  },
  {
   "cell_type": "markdown",
   "metadata": {},
   "source": [
    "## strategies to overcome overfitting\n",
    "\n",
    "* a too small model will not be able to map the complexity of the data (underfitting)\n",
    "* a too big model has too many hyperparameters and will overfit soon\n",
    "* to find the right size of a model can be a complex task, which unfortunatelly cannot be overcome without some experience. A good strategy can be to use a model, that is more complex than necessary and use early stopping (stretch pants).\n",
    "* The best way to prevent overfitting is to train it with more data. If this is not possible -> l1 / l2 regularization | dropout"
   ]
  },
  {
   "cell_type": "code",
   "execution_count": null,
   "metadata": {},
   "outputs": [],
   "source": []
  },
  {
   "cell_type": "markdown",
   "metadata": {},
   "source": [
    "#### further steps\n",
    "- stratetegeis to overcome overfitting ...\n",
    "- notebook on cnn with the same dataset, showing the better results\n",
    "- auto-ml/auto-keras/bayesian hyperpararmeter optimization (see Deep Learning | Ian Goodfellow)\n",
    "\n",
    "Idea: Notebook \"It's no rocket science\"\n",
    "\n",
    "rocket equation and artificial neural network that learns it\n",
    "model based approach vs. learning from data\n",
    "\"There is no free lunch\" theorem and \"Univseral Function Approximator\" theorem"
   ]
  },
  {
   "cell_type": "code",
   "execution_count": null,
   "metadata": {},
   "outputs": [],
   "source": []
  },
  {
   "cell_type": "code",
   "execution_count": null,
   "metadata": {},
   "outputs": [],
   "source": []
  }
 ],
 "metadata": {
  "kernelspec": {
   "display_name": "Python 3",
   "language": "python",
   "name": "python3"
  },
  "language_info": {
   "codemirror_mode": {
    "name": "ipython",
    "version": 3
   },
   "file_extension": ".py",
   "mimetype": "text/x-python",
   "name": "python",
   "nbconvert_exporter": "python",
   "pygments_lexer": "ipython3",
   "version": "3.6.5"
  }
 },
 "nbformat": 4,
 "nbformat_minor": 2
}
